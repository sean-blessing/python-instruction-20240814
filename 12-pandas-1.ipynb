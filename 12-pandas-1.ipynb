{
 "cells": [
  {
   "cell_type": "markdown",
   "metadata": {},
   "source": [
    "Chapter 12, page 291"
   ]
  },
  {
   "cell_type": "code",
   "execution_count": 2,
   "metadata": {},
   "outputs": [
    {
     "name": "stdout",
     "output_type": "stream",
     "text": [
      "s1: a      0.686899\n",
      "b     -0.411086\n",
      "c      1.244464\n",
      "d     -1.884599\n",
      "e     -0.969746\n",
      "f      1.245110\n",
      "g     -0.933142\n",
      "h     -1.150861\n",
      " i    -0.800290\n",
      "j     -0.582802\n",
      "dtype: float64 \n",
      "\n",
      "s2: 0    0.686899\n",
      "1   -0.411086\n",
      "2    1.244464\n",
      "3   -1.884599\n",
      "4   -0.969746\n",
      "5    1.245110\n",
      "6   -0.933142\n",
      "7   -1.150861\n",
      "8   -0.800290\n",
      "9   -0.582802\n",
      "dtype: float64 \n",
      "\n"
     ]
    }
   ],
   "source": [
    "from numpy.random import default_rng\n",
    "import pandas as pd\n",
    "\n",
    "NUM_DATA_POINTS = 10\n",
    "index = ['a', 'b', 'c', 'd', 'e', 'f', 'g', 'h', ' i ', 'j']\n",
    "rng = default_rng()\n",
    "data = rng.standard_normal(NUM_DATA_POINTS)\n",
    "\n",
    "s1 = pd.Series(data, index=index)\n",
    "s2 = pd.Series(data)\n",
    "\n",
    "print(\"s1:\", s1, \"\\n\")\n",
    "print(\"s2:\", s2, \"\\n\")"
   ]
  }
 ],
 "metadata": {
  "kernelspec": {
   "display_name": "Python 3",
   "language": "python",
   "name": "python3"
  },
  "language_info": {
   "codemirror_mode": {
    "name": "ipython",
    "version": 3
   },
   "file_extension": ".py",
   "mimetype": "text/x-python",
   "name": "python",
   "nbconvert_exporter": "python",
   "pygments_lexer": "ipython3",
   "version": "3.12.3"
  }
 },
 "nbformat": 4,
 "nbformat_minor": 2
}
