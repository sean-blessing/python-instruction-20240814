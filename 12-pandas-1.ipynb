{
 "cells": [
  {
   "cell_type": "markdown",
   "metadata": {},
   "source": [
    "Chapter 12, page 291"
   ]
  },
  {
   "cell_type": "code",
   "execution_count": 20,
   "metadata": {},
   "outputs": [
    {
     "name": "stdout",
     "output_type": "stream",
     "text": [
      "s1: a   -1.358424\n",
      "b   -0.455214\n",
      "c   -0.236859\n",
      "d    0.178775\n",
      "e    1.284913\n",
      "f   -0.214073\n",
      "g    0.733693\n",
      "h   -0.504532\n",
      "i   -0.859706\n",
      "j   -0.292730\n",
      "dtype: float64 \n",
      "\n",
      "s2: 0   -1.358424\n",
      "1   -0.455214\n",
      "2   -0.236859\n",
      "3    0.178775\n",
      "4    1.284913\n",
      "5   -0.214073\n",
      "6    0.733693\n",
      "7   -0.504532\n",
      "8   -0.859706\n",
      "9   -0.292730\n",
      "dtype: float64 \n",
      "\n"
     ]
    }
   ],
   "source": [
    "from numpy.random import default_rng\n",
    "import pandas as pd\n",
    "\n",
    "NUM_DATA_POINTS = 10\n",
    "index = ['a', 'b', 'c', 'd', 'e', 'f', 'g', 'h', 'i', 'j']\n",
    "rng = default_rng()\n",
    "data = rng.standard_normal(NUM_DATA_POINTS)\n",
    "\n",
    "s1 = pd.Series(data, index=index)\n",
    "s2 = pd.Series(data)\n",
    "\n",
    "print(\"s1:\", s1, \"\\n\")\n",
    "print(\"s2:\", s2, \"\\n\")"
   ]
  },
  {
   "cell_type": "code",
   "execution_count": 21,
   "metadata": {},
   "outputs": [
    {
     "name": "stdout",
     "output_type": "stream",
     "text": [
      "selecting elements\n",
      "h   -0.504532\n",
      "b   -0.455214\n",
      "dtype: float64 \n",
      "\n",
      "a   -1.358424\n",
      "b   -0.455214\n",
      "c   -0.236859\n",
      "dtype: float64 \n",
      "\n",
      "0   -1.358424\n",
      "3    0.178775\n",
      "7   -0.504532\n",
      "dtype: float64 \n",
      "\n"
     ]
    }
   ],
   "source": [
    "print(\"selecting elements\")\n",
    "print(s1[['h', 'b']], \"\\n\")  # select items from series\n",
    "\n",
    "print(s1[['a', 'b', 'c']], \"\\n\")  # select items from series\n",
    "\n",
    "print(s2[[0, 3, 7]], \"\\n\")"
   ]
  },
  {
   "cell_type": "code",
   "execution_count": 22,
   "metadata": {},
   "outputs": [
    {
     "name": "stdout",
     "output_type": "stream",
     "text": [
      "slice of elements\n",
      "b   -0.455214\n",
      "c   -0.236859\n",
      "d    0.178775\n",
      "dtype: float64 \n",
      "\n"
     ]
    }
   ],
   "source": [
    "print(\"slice of elements\")\n",
    "print(s1['b':'d'], \"\\n\")  # select slice of elements"
   ]
  },
  {
   "cell_type": "code",
   "execution_count": 23,
   "metadata": {},
   "outputs": [
    {
     "name": "stdout",
     "output_type": "stream",
     "text": [
      "sum(), mean(), min(), max():\n",
      "-1.7241570205198369 -0.1724157020519837 -1.3584243729837686 1.284913055205982 \n",
      "\n"
     ]
    }
   ],
   "source": [
    "# get stats on series\n",
    "print(\"sum(), mean(), min(), max():\")\n",
    "print(s1.sum(), s1.mean(), s1.min(), s1.max(), \"\\n\")"
   ]
  },
  {
   "cell_type": "code",
   "execution_count": 24,
   "metadata": {},
   "outputs": [
    {
     "name": "stdout",
     "output_type": "stream",
     "text": [
      "cumsum(), cumprod():\n",
      "a   -1.358424\n",
      "b   -1.813639\n",
      "c   -2.050498\n",
      "d   -1.871722\n",
      "e   -0.586809\n",
      "f   -0.800883\n",
      "g   -0.067189\n",
      "h   -0.571721\n",
      "i   -1.431427\n",
      "j   -1.724157\n",
      "dtype: float64 a   -1.358424\n",
      "b    0.618374\n",
      "c   -0.146467\n",
      "d   -0.026185\n",
      "e   -0.033645\n",
      "f    0.007203\n",
      "g    0.005284\n",
      "h   -0.002666\n",
      "i    0.002292\n",
      "j   -0.000671\n",
      "dtype: float64 \n",
      "\n"
     ]
    }
   ],
   "source": [
    "# get stats on series\n",
    "print(\"cumsum(), cumprod():\")\n",
    "print(s1.cumsum(), s1.cumprod(), \"\\n\")  "
   ]
  },
  {
   "cell_type": "code",
   "execution_count": 25,
   "metadata": {},
   "outputs": [
    {
     "name": "stdout",
     "output_type": "stream",
     "text": [
      "True\n",
      "False\n",
      "\n"
     ]
    }
   ],
   "source": [
    "# numbers = [1, 5, 3, 7, 8, 2, 9]\n",
    "# print(5 in numbers)\n",
    "# print(10 in numbers)\n",
    "\n",
    "print('a' in s1)  # test for existence of label\n",
    "print('m' in s1)  # test for existence of label\n",
    "print()"
   ]
  },
  {
   "cell_type": "code",
   "execution_count": 26,
   "metadata": {},
   "outputs": [
    {
     "name": "stdout",
     "output_type": "stream",
     "text": [
      "s3 (which is s1 * 10)\n",
      "a   -13.584244\n",
      "b    -4.552143\n",
      "c    -2.368589\n",
      "d     1.787754\n",
      "e    12.849131\n",
      "f    -2.140733\n",
      "g     7.336931\n",
      "h    -5.045315\n",
      "i    -8.597061\n",
      "j    -2.927300\n",
      "dtype: float64 \n",
      "\n"
     ]
    }
   ],
   "source": [
    "# create new series with every element of s1 multiplied by 10\n",
    "s3 = s1 * 10  \n",
    "print(\"s3 (which is s1 * 10)\")\n",
    "print(s3, \"\\n\")"
   ]
  },
  {
   "cell_type": "code",
   "execution_count": 28,
   "metadata": {},
   "outputs": [
    {
     "name": "stdout",
     "output_type": "stream",
     "text": [
      "a    -1.358424\n",
      "b    -0.455214\n",
      "c    -0.236859\n",
      "d     0.178775\n",
      "e    32.122826\n",
      "f    -0.214073\n",
      "g     0.733693\n",
      "h    -0.504532\n",
      "i    -0.859706\n",
      "j    -0.292730\n",
      "dtype: float64 \n",
      "\n"
     ]
    }
   ],
   "source": [
    "s1['e'] *= 5\n",
    "print(s1, \"\\n\")"
   ]
  }
 ],
 "metadata": {
  "kernelspec": {
   "display_name": "Python 3",
   "language": "python",
   "name": "python3"
  },
  "language_info": {
   "codemirror_mode": {
    "name": "ipython",
    "version": 3
   },
   "file_extension": ".py",
   "mimetype": "text/x-python",
   "name": "python",
   "nbconvert_exporter": "python",
   "pygments_lexer": "ipython3",
   "version": "3.12.3"
  }
 },
 "nbformat": 4,
 "nbformat_minor": 2
}
