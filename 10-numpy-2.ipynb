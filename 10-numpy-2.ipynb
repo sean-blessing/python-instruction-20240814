{
 "cells": [
  {
   "cell_type": "code",
   "execution_count": 3,
   "metadata": {},
   "outputs": [
    {
     "name": "stdout",
     "output_type": "stream",
     "text": [
      "[ 0  1  2  3  4  5  6  7  8  9 10 11 12 13 14 15 16 17 18 19 20 21 22 23\n",
      " 24 25 26 27 28 29 30 31 32 33 34 35 36 37 38 39 40 41 42 43 44 45 46 47\n",
      " 48 49]\n",
      "size is 50\n",
      "\n"
     ]
    }
   ],
   "source": [
    "# p. 233\n",
    "import numpy as np\n",
    "\n",
    "r1 = np.arange(50)  # create range of ints from 0 to 49\n",
    "print(r1)\n",
    "print(\"size is\", r1.size)  # size is 50\n",
    "print()"
   ]
  },
  {
   "cell_type": "code",
   "execution_count": 4,
   "metadata": {},
   "outputs": [
    {
     "name": "stdout",
     "output_type": "stream",
     "text": [
      "[  5  10  15  20  25  30  35  40  45  50  55  60  65  70  75  80  85  90\n",
      "  95 100]\n",
      "size is 20\n",
      "\n"
     ]
    }
   ],
   "source": [
    "r2 = np.arange(5, 101, 5)  # create range of ints from 5 to 100 counting by 5\n",
    "print(r2)\n",
    "print(\"size is\", r2.size)\n",
    "print()\n"
   ]
  },
  {
   "cell_type": "code",
   "execution_count": 5,
   "metadata": {},
   "outputs": [
    {
     "name": "stdout",
     "output_type": "stream",
     "text": [
      "[1.        1.3333333 1.6666666 1.9999999 2.3333332 2.6666665 2.9999998\n",
      " 3.3333331 3.6666664 3.9999997 4.333333  4.6666663 4.9999996]\n",
      "size is 13\n",
      "\n"
     ]
    }
   ],
   "source": [
    "r3 = np.arange(1.0, 5.0, .3333333)  # start, stop, and step may be floats\n",
    "print(r3)\n",
    "print(\"size is\", r3.size)\n",
    "print()"
   ]
  },
  {
   "cell_type": "code",
   "execution_count": 6,
   "metadata": {},
   "outputs": [
    {
     "name": "stdout",
     "output_type": "stream",
     "text": [
      "[1.         1.11111111 1.22222222 1.33333333 1.44444444 1.55555556\n",
      " 1.66666667 1.77777778 1.88888889 2.        ]\n",
      "size is 10\n",
      "\n"
     ]
    }
   ],
   "source": [
    "r4 = np.linspace(1.0, 2.0, 10)  # 10 equal steps between 1.0 and 2.0\n",
    "print(r4)\n",
    "print(\"size is\", r4.size)\n",
    "print()"
   ]
  }
 ],
 "metadata": {
  "kernelspec": {
   "display_name": "Python 3",
   "language": "python",
   "name": "python3"
  },
  "language_info": {
   "codemirror_mode": {
    "name": "ipython",
    "version": 3
   },
   "file_extension": ".py",
   "mimetype": "text/x-python",
   "name": "python",
   "nbconvert_exporter": "python",
   "pygments_lexer": "ipython3",
   "version": "3.12.3"
  }
 },
 "nbformat": 4,
 "nbformat_minor": 2
}
