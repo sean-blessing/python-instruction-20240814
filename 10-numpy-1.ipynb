{
 "cells": [
  {
   "cell_type": "markdown",
   "metadata": {},
   "source": [
    "### This is a demo on Jupyter Notebooks and the numpy module in Python\n",
    "We'll add all examples in code cells and run iteratively."
   ]
  },
  {
   "cell_type": "code",
   "execution_count": 3,
   "metadata": {},
   "outputs": [
    {
     "name": "stdout",
     "output_type": "stream",
     "text": [
      "[[ 1  2  3]\n",
      " [ 4  5  6]\n",
      " [ 7  8  9]\n",
      " [20 30 40]] \n",
      "\n"
     ]
    }
   ],
   "source": [
    "# This is our code cell. It's the first one in this notebook so we'll do some setup here.\n",
    "# p. 229\n",
    "import sys\n",
    "import numpy as np\n",
    "data = [[1, 2, 3], [4, 5, 6], [7, 8, 9], [20, 30, 40]]\n",
    "a = np.array(data)  # create array from nested sequences\n",
    "print(a, '\\n')"
   ]
  },
  {
   "cell_type": "code",
   "execution_count": 4,
   "metadata": {},
   "outputs": [
    {
     "name": "stdout",
     "output_type": "stream",
     "text": [
      "a.ndim (# dimensions): 2\n",
      "a.shape (lengths of axes/dimensions): (4, 3)\n",
      "a.size (number of elements in array): 12\n",
      "a.itemsize (size of one item): 4\n",
      "a.nbytes (number of bytes used): 48\n",
      "sys.getsizeof(data): 88\n",
      "\n"
     ]
    }
   ],
   "source": [
    "print(\"a.ndim (# dimensions):\", a.ndim)  # get number of dimensions\n",
    "print(\"a.shape (lengths of axes/dimensions):\", a.shape)  # get shape\n",
    "print(\"a.size (number of elements in array):\", a.size)\n",
    "print(\"a.itemsize (size of one item):\", a.itemsize)\n",
    "print(\"a.nbytes (number of bytes used):\", a.nbytes)\n",
    "print(\"sys.getsizeof(data):\", sys.getsizeof(data))\n",
    "print()"
   ]
  },
  {
   "cell_type": "code",
   "execution_count": 7,
   "metadata": {},
   "outputs": [
    {
     "name": "stdout",
     "output_type": "stream",
     "text": [
      "[[0 0 0 0 0]\n",
      " [0 0 0 0 0]\n",
      " [0 0 0 0 0]]\n",
      "\n"
     ]
    }
   ],
   "source": [
    "a_zeros = np.zeros((3, 5), dtype=np.uint32)  # create array of specified shape and datatype, initialized to zeroes\n",
    "print(a_zeros)\n",
    "print()"
   ]
  },
  {
   "cell_type": "code",
   "execution_count": 8,
   "metadata": {},
   "outputs": [
    {
     "name": "stdout",
     "output_type": "stream",
     "text": [
      "[[[[1. 1. 1. 1. 1.]\n",
      "   [1. 1. 1. 1. 1.]\n",
      "   [1. 1. 1. 1. 1.]\n",
      "   [1. 1. 1. 1. 1.]]\n",
      "\n",
      "  [[1. 1. 1. 1. 1.]\n",
      "   [1. 1. 1. 1. 1.]\n",
      "   [1. 1. 1. 1. 1.]\n",
      "   [1. 1. 1. 1. 1.]]\n",
      "\n",
      "  [[1. 1. 1. 1. 1.]\n",
      "   [1. 1. 1. 1. 1.]\n",
      "   [1. 1. 1. 1. 1.]\n",
      "   [1. 1. 1. 1. 1.]]]\n",
      "\n",
      "\n",
      " [[[1. 1. 1. 1. 1.]\n",
      "   [1. 1. 1. 1. 1.]\n",
      "   [1. 1. 1. 1. 1.]\n",
      "   [1. 1. 1. 1. 1.]]\n",
      "\n",
      "  [[1. 1. 1. 1. 1.]\n",
      "   [1. 1. 1. 1. 1.]\n",
      "   [1. 1. 1. 1. 1.]\n",
      "   [1. 1. 1. 1. 1.]]\n",
      "\n",
      "  [[1. 1. 1. 1. 1.]\n",
      "   [1. 1. 1. 1. 1.]\n",
      "   [1. 1. 1. 1. 1.]\n",
      "   [1. 1. 1. 1. 1.]]]]\n",
      "\n"
     ]
    }
   ],
   "source": [
    "a_ones = np.ones((2, 3, 4, 5))  # create array of specified shape, initialized to ones\n",
    "print(a_ones)\n",
    "print()"
   ]
  },
  {
   "cell_type": "markdown",
   "metadata": {},
   "source": [
    "### np.empty\n",
    "NumPy's empty() function creates an array without initializing its values to any specific value. This means the array will contain whatever random values were present in the allocated memory."
   ]
  },
  {
   "cell_type": "code",
   "execution_count": 14,
   "metadata": {},
   "outputs": [
    {
     "name": "stdout",
     "output_type": "stream",
     "text": [
      "[[6.23042070e-307 4.67296746e-307 1.69121096e-306 8.01101285e-307\n",
      "  1.89146896e-307 7.56571288e-307 3.11525958e-307 1.24610723e-306]\n",
      " [1.37962320e-306 1.29060871e-306 2.22518251e-306 1.33511969e-306\n",
      "  1.78022342e-306 1.05700345e-307 3.11525958e-307 1.69118108e-306]\n",
      " [8.06632139e-308 1.20160711e-306 1.69119330e-306 8.90100844e-307\n",
      "  1.69121367e-306 2.13620807e-306 1.69120552e-306 6.23058028e-307]]\n",
      "int32\n"
     ]
    }
   ],
   "source": [
    "# with uninitialized values\n",
    "a_empty = np.empty((3, 8))  # create uninitialized array of specified shape\n",
    "print(a_empty)\n",
    "print(a.dtype)  # defaults to float64"
   ]
  },
  {
   "cell_type": "code",
   "execution_count": 15,
   "metadata": {},
   "outputs": [
    {
     "name": "stdout",
     "output_type": "stream",
     "text": [
      "[[nan nan nan nan nan nan nan nan nan nan]\n",
      " [nan nan nan nan nan nan nan nan nan nan]\n",
      " [nan nan nan nan nan nan nan nan nan nan]\n",
      " [nan nan nan nan nan nan nan nan nan nan]\n",
      " [nan nan nan nan nan nan nan nan nan nan]]\n"
     ]
    }
   ],
   "source": [
    "nan_array = np.full((5, 10), np.NaN)  # create array of NaN values\n",
    "print(nan_array)"
   ]
  }
 ],
 "metadata": {
  "kernelspec": {
   "display_name": "Python 3",
   "language": "python",
   "name": "python3"
  },
  "language_info": {
   "codemirror_mode": {
    "name": "ipython",
    "version": 3
   },
   "file_extension": ".py",
   "mimetype": "text/x-python",
   "name": "python",
   "nbconvert_exporter": "python",
   "pygments_lexer": "ipython3",
   "version": "3.12.3"
  }
 },
 "nbformat": 4,
 "nbformat_minor": 2
}
