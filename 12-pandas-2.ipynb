{
 "cells": [
  {
   "cell_type": "markdown",
   "metadata": {},
   "source": [
    "p. 298 Data Frames"
   ]
  },
  {
   "cell_type": "code",
   "execution_count": 2,
   "metadata": {},
   "outputs": [
    {
     "name": "stdout",
     "output_type": "stream",
     "text": [
      "cols\n",
      "['alpha', 'beta', 'gamma', 'delta', 'epsilon'] \n",
      "\n",
      "indices\n",
      "['a', 'b', 'c', 'd', 'e', 'f'] \n",
      "\n",
      "values\n",
      "[[100, 110, 120, 130, 140], [200, 210, 220, 230, 240], [300, 310, 320, 330, 340], [400, 410, 420, 430, 440], [500, 510, 520, 530, 540], [600, 610, 620, 630, 640]] \n",
      "\n"
     ]
    }
   ],
   "source": [
    "import pandas as pd\n",
    "# from printheader import print_header\n",
    "\n",
    "# column names\n",
    "cols = ['alpha', 'beta', 'gamma', 'delta', 'epsilon'] \n",
    "# row names\n",
    "indices = ['a', 'b', 'c', 'd', 'e', 'f']  \n",
    "\n",
    "values = [  # sample data\n",
    "    [100, 110, 120, 130, 140],\n",
    "    [200, 210, 220, 230, 240],\n",
    "    [300, 310, 320, 330, 340],\n",
    "    [400, 410, 420, 430, 440],\n",
    "    [500, 510, 520, 530, 540],\n",
    "    [600, 610, 620, 630, 640],\n",
    "]\n",
    "print('cols')\n",
    "print(cols, '\\n')\n",
    "\n",
    "print('indices')\n",
    "print(indices, '\\n')\n",
    "\n",
    "print('values')\n",
    "print(values, '\\n')"
   ]
  },
  {
   "cell_type": "code",
   "execution_count": 8,
   "metadata": {},
   "outputs": [
    {
     "name": "stdout",
     "output_type": "stream",
     "text": [
      "DataFrame df\n",
      "   alpha  beta  gamma  delta  epsilon\n",
      "a    100   110    120    130      140\n",
      "b    200   210    220    230      240\n",
      "c    300   310    320    330      340\n",
      "d    400   410    420    430      440\n",
      "e    500   510    520    530      540\n",
      "f    600   610    620    630      640 \n",
      "\n",
      "df['gamma']\n",
      "a    120\n",
      "b    220\n",
      "c    320\n",
      "d    420\n",
      "e    520\n",
      "f    620\n",
      "Name: gamma, dtype: int64\n",
      "df['c']\n",
      "alpha      300\n",
      "beta       310\n",
      "gamma      320\n",
      "delta      330\n",
      "epsilon    340\n",
      "Name: c, dtype: int64\n"
     ]
    }
   ],
   "source": [
    "# create dataframe with row and column names\n",
    "df = pd.DataFrame(values, index=indices, columns=cols)  \n",
    "print('DataFrame df')\n",
    "print(df, '\\n')\n",
    "\n",
    "# select column 'gamma'\n",
    "print(\"df['gamma']\")\n",
    "print(df['gamma'])  \n",
    "\n",
    "# select row 'c'\n",
    "print(\"df['c']\")\n",
    "print(df.loc['c'])  "
   ]
  }
 ],
 "metadata": {
  "kernelspec": {
   "display_name": "Python 3",
   "language": "python",
   "name": "python3"
  },
  "language_info": {
   "codemirror_mode": {
    "name": "ipython",
    "version": 3
   },
   "file_extension": ".py",
   "mimetype": "text/x-python",
   "name": "python",
   "nbconvert_exporter": "python",
   "pygments_lexer": "ipython3",
   "version": "3.12.3"
  }
 },
 "nbformat": 4,
 "nbformat_minor": 2
}
