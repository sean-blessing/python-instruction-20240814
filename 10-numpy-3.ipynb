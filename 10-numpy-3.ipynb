{
 "cells": [
  {
   "cell_type": "code",
   "execution_count": 2,
   "metadata": {},
   "outputs": [
    {
     "name": "stdout",
     "output_type": "stream",
     "text": [
      "[[63. 51. 59. 61. 50.  4.]\n",
      " [40. 66.  9. 64. 63. 17.]\n",
      " [18. 23.  2. 61.  1.  9.]\n",
      " ...\n",
      " [26. 20. 54. 46. 38. 23.]\n",
      " [ 9.  5. 59. 23.  2. 26.]\n",
      " [46. 34. 25.  8. 39. 34.]]\n"
     ]
    }
   ],
   "source": [
    "# p. 272 numpy save text and load text\n",
    "import numpy as np\n",
    "\n",
    "sample_data = np.loadtxt(   # Load data from space-delimited file\n",
    "    \"./files/columns_of_numbers.txt\",\n",
    "    skiprows=1,\n",
    "    dtype=float\n",
    ")\n",
    "\n",
    "print(sample_data)"
   ]
  },
  {
   "cell_type": "code",
   "execution_count": 3,
   "metadata": {},
   "outputs": [
    {
     "name": "stdout",
     "output_type": "stream",
     "text": [
      "[[6.3 5.1 5.9 6.1 5.  0.4]\n",
      " [4.  6.6 0.9 6.4 6.3 1.7]\n",
      " [1.8 2.3 0.2 6.1 0.1 0.9]\n",
      " ...\n",
      " [2.6 2.  5.4 4.6 3.8 2.3]\n",
      " [0.9 0.5 5.9 2.3 0.2 2.6]\n",
      " [4.6 3.4 2.5 0.8 3.9 3.4]]\n"
     ]
    }
   ],
   "source": [
    "#modify the sample data\n",
    "sample_data  /= 10  # Modify sample data\n",
    "print(sample_data)"
   ]
  },
  {
   "cell_type": "markdown",
   "metadata": {},
   "source": [
    "#### Write data to text file as floats, rounded to two decimal places, using commas as delimiter"
   ]
  },
  {
   "cell_type": "code",
   "execution_count": 4,
   "metadata": {},
   "outputs": [],
   "source": [
    "float_file_name = './files/save_data_float.txt'\n",
    "\n",
    "np.savetxt(float_file_name, sample_data, delimiter=\",\", fmt=\"%5.2f\")  "
   ]
  },
  {
   "cell_type": "markdown",
   "metadata": {},
   "source": [
    "### int version\n",
    "Write data to text file as ints, using commas as delimiter"
   ]
  },
  {
   "cell_type": "code",
   "execution_count": 5,
   "metadata": {},
   "outputs": [],
   "source": [
    "int_file_name = './files/save_data_int.txt'\n",
    "\n",
    "np.savetxt(int_file_name, sample_data, delimiter=\",\", fmt=\"%d\")"
   ]
  },
  {
   "cell_type": "markdown",
   "metadata": {},
   "source": [
    "Read data back into ndarray"
   ]
  },
  {
   "cell_type": "code",
   "execution_count": 6,
   "metadata": {},
   "outputs": [
    {
     "name": "stdout",
     "output_type": "stream",
     "text": [
      "[[6.3 5.1 5.9 6.1 5.  0.4]\n",
      " [4.  6.6 0.9 6.4 6.3 1.7]\n",
      " [1.8 2.3 0.2 6.1 0.1 0.9]\n",
      " ...\n",
      " [2.6 2.  5.4 4.6 3.8 2.3]\n",
      " [0.9 0.5 5.9 2.3 0.2 2.6]\n",
      " [4.6 3.4 2.5 0.8 3.9 3.4]]\n"
     ]
    }
   ],
   "source": [
    "data = np.loadtxt(float_file_name, delimiter=\",\")  \n",
    "print(data)"
   ]
  }
 ],
 "metadata": {
  "kernelspec": {
   "display_name": "Python 3",
   "language": "python",
   "name": "python3"
  },
  "language_info": {
   "codemirror_mode": {
    "name": "ipython",
    "version": 3
   },
   "file_extension": ".py",
   "mimetype": "text/x-python",
   "name": "python",
   "nbconvert_exporter": "python",
   "pygments_lexer": "ipython3",
   "version": "3.12.3"
  }
 },
 "nbformat": 4,
 "nbformat_minor": 2
}
